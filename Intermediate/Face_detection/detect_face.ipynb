{
 "cells": [
  {
   "cell_type": "code",
   "execution_count": null,
   "metadata": {},
   "outputs": [],
   "source": [
    "import cv2\n",
    "\n",
    "face_cascad=cv2.CascadeClassifier('haarcascade_frontalface_default.xml')\n",
    "img=cv2.imread(\"images/kim.jpg\")\n",
    "gray=cv2.cvtColor(img,cv2.COLOR_BGR2GRAY)\n",
    "faces=face_cascad.detectMultiScale(gray,1.1,4)\n",
    "\n",
    "for (x,y,w,h) in  faces:\n",
    "    cv2.rectangle(img,(x,y),(x+w,y+h),(255,0,0),3)\n",
    "\n",
    "\n",
    "\n",
    "cv2.imshow('img',img)\n",
    "\n",
    "\n",
    "cv2.waitKey()\n",
    "cv2.destroyAllWindows()"
   ]
  }
 ],
 "metadata": {
  "kernelspec": {
   "display_name": "Python 3",
   "language": "python",
   "name": "python3"
  },
  "language_info": {
   "codemirror_mode": {
    "name": "ipython",
    "version": 3
   },
   "file_extension": ".py",
   "mimetype": "text/x-python",
   "name": "python",
   "nbconvert_exporter": "python",
   "pygments_lexer": "ipython3",
   "version": "3.7.4"
  }
 },
 "nbformat": 4,
 "nbformat_minor": 2
}
