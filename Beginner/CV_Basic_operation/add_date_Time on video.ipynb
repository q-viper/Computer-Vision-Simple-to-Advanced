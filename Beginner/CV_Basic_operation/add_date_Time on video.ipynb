{
 "cells": [
  {
   "cell_type": "code",
   "execution_count": 1,
   "metadata": {},
   "outputs": [],
   "source": [
    "import datetime\n",
    "import cv2\n",
    "\n",
    "cap=cv2.VideoCapture(0)\n",
    "\n",
    "#print(cap.get(cv2.CAP_PROP_FRAME_HEIGHT))\n",
    "#print(cap.get(cv2.CAP_PROP_FRAME_WIDTH))\n",
    "\n",
    "a=int(cap.get(3))\n",
    "b=int(cap.get(4))\n",
    "size=(a,b)\n",
    "\n",
    "result = cv2.VideoWriter('demotimeanddate.avi',\n",
    "                         cv2.VideoWriter_fourcc(*'MJPG'),\n",
    "                         10,size )\n",
    "while(True):\n",
    "    ret,frame=cap.read()\n",
    "    if ret == True:\n",
    "        result.write(frame)\n",
    "        font=cv2.FONT_HERSHEY_COMPLEX\n",
    "        text=\"width:\" +str(cap.get(3)) + \"Heights\" + str(cap.get(4))\n",
    "        datet=str(datetime.datetime.now())\n",
    "        frame=cv2.putText(frame,datet,(10,50),font,1,(0,255,0),2,cv2.LINE_AA)\n",
    "        cv2.imshow(\"img\",frame)\n",
    "\n",
    "        if (cv2.waitKey(1) & 0xFF == ord('q')):\n",
    "            break\n",
    "    else:\n",
    "        break\n",
    "cap.release()\n",
    "cv2.destroyAllWindows()"
   ]
  },
  {
   "cell_type": "code",
   "execution_count": null,
   "metadata": {},
   "outputs": [],
   "source": []
  }
 ],
 "metadata": {
  "kernelspec": {
   "display_name": "Python 3",
   "language": "python",
   "name": "python3"
  },
  "language_info": {
   "codemirror_mode": {
    "name": "ipython",
    "version": 3
   },
   "file_extension": ".py",
   "mimetype": "text/x-python",
   "name": "python",
   "nbconvert_exporter": "python",
   "pygments_lexer": "ipython3",
   "version": "3.7.4"
  }
 },
 "nbformat": 4,
 "nbformat_minor": 2
}
