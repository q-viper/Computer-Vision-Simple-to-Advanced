{
 "cells": [
  {
   "cell_type": "code",
   "execution_count": 2,
   "metadata": {},
   "outputs": [
    {
     "name": "stdout",
     "output_type": "stream",
     "text": [
      "(1080, 1920, 3)\n",
      "6220800\n",
      "uint8\n"
     ]
    }
   ],
   "source": [
    "import cv2\n",
    "img=cv2.imread(\"H:\\CV projects\\Basic_CV\\images\\desktop_w.jpg\")\n",
    "img2=cv2.imread(\"H:\\CV projects\\Basic_CV\\images\\desktop_wall1.png\")\n",
    "\n",
    "\n",
    "print(img.shape)\n",
    "print(img.size)\n",
    "print(img.dtype)\n",
    "\n",
    "b,g,r=cv2.split(img)\n",
    "img=cv2.merge((b,g,r))\n",
    "\n",
    "img=cv2.resize(img,(700,710))\n",
    "img2=cv2.resize(img2,(700,710))\n",
    "\n",
    "\n",
    "#dst=cv2.add(img2,img)\n",
    "dst=cv2.addWeighted(img,.9,img2,.4,0)\n",
    "cv2.imshow('image',dst)\n",
    "cv2.waitKey(0)\n",
    "cv2.destroyAllWindows()"
   ]
  },
  {
   "cell_type": "code",
   "execution_count": null,
   "metadata": {},
   "outputs": [],
   "source": []
  }
 ],
 "metadata": {
  "kernelspec": {
   "display_name": "Python 3",
   "language": "python",
   "name": "python3"
  },
  "language_info": {
   "codemirror_mode": {
    "name": "ipython",
    "version": 3
   },
   "file_extension": ".py",
   "mimetype": "text/x-python",
   "name": "python",
   "nbconvert_exporter": "python",
   "pygments_lexer": "ipython3",
   "version": "3.7.4"
  }
 },
 "nbformat": 4,
 "nbformat_minor": 2
}
